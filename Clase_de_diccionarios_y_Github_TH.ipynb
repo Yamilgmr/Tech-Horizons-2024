{
  "nbformat": 4,
  "nbformat_minor": 0,
  "metadata": {
    "colab": {
      "provenance": [],
      "authorship_tag": "ABX9TyNgnrVFTtDskCM5p8Ge1qvi",
      "include_colab_link": true
    },
    "kernelspec": {
      "name": "python3",
      "display_name": "Python 3"
    },
    "language_info": {
      "name": "python"
    }
  },
  "cells": [
    {
      "cell_type": "markdown",
      "metadata": {
        "id": "view-in-github",
        "colab_type": "text"
      },
      "source": [
        "<a href=\"https://colab.research.google.com/github/Yamilgmr/Tech-Horizons-2024/blob/main/Clase_de_diccionarios_y_Github_TH.ipynb\" target=\"_parent\"><img src=\"https://colab.research.google.com/assets/colab-badge.svg\" alt=\"Open In Colab\"/></a>"
      ]
    },
    {
      "cell_type": "code",
      "execution_count": 1,
      "metadata": {
        "colab": {
          "base_uri": "https://localhost:8080/"
        },
        "id": "HkqApVrL0UGO",
        "outputId": "4f78434e-99d7-4490-f9f0-b83d90937b97"
      },
      "outputs": [
        {
          "output_type": "stream",
          "name": "stdout",
          "text": [
            "\n",
            "=== INFORMACIÓN DE LA PELÍCULA ===\n",
            "Título: Rápidos y Furiosos\n",
            "Director: Rob Cohen\n",
            "Año: 2001\n",
            "Género: Acción\n",
            "Calificación: 9\n",
            "Actores principales: Vin Diesel, Paul Walker, Michelle Rodriguez\n"
          ]
        }
      ],
      "source": [
        "pelicula = {\n",
        "    \"titulo\": \"Rápidos y Furiosos\",\n",
        "    \"director\": \"Rob Cohen\",\n",
        "    \"año\": 2001,\n",
        "    \"genero\": \"Acción\",\n",
        "    \"calificacion\": 9,\n",
        "    \"actores\": [\"Vin Diesel\", \"Paul Walker\", \"Michelle Rodriguez\"]\n",
        "}\n",
        "\n",
        "# Mostramos los datos de forma clara\n",
        "print(\"\\n=== INFORMACIÓN DE LA PELÍCULA ===\")\n",
        "print(\"Título:\", pelicula[\"titulo\"])\n",
        "print(\"Director:\", pelicula[\"director\"])\n",
        "print(\"Año:\", pelicula[\"año\"])\n",
        "print(\"Género:\", pelicula[\"genero\"])\n",
        "print(\"Calificación:\", pelicula[\"calificacion\"])\n",
        "print(\"Actores principales:\", \", \".join(pelicula[\"actores\"]))\n"
      ]
    }
  ]
}